{
  "nbformat": 4,
  "nbformat_minor": 0,
  "metadata": {
    "colab": {
      "name": "Test run",
      "provenance": []
    },
    "kernelspec": {
      "display_name": "Python 3",
      "name": "python3"
    },
    "language_info": {
      "name": "python"
    }
  },
  "cells": [
    {
      "cell_type": "code",
      "metadata": {
        "id": "x1G0u9WWg7hS"
      },
      "source": [
        "import numpy as np\n",
        "import os\n",
        "import heapq\n",
        "import math\n",
        "from heapq import heappop, heappush"
      ],
      "execution_count": 1,
      "outputs": []
    },
    {
      "cell_type": "code",
      "metadata": {
        "colab": {
          "resources": {
            "http://localhost:8080/nbextensions/google.colab/files.js": {
              "data": "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",
              "headers": [
                [
                  "content-type",
                  "application/javascript"
                ]
              ],
              "ok": true,
              "status": 200,
              "status_text": ""
            }
          },
          "base_uri": "https://localhost:8080/",
          "height": 74
        },
        "id": "U_yRzuQ6ibZo",
        "outputId": "f561143e-6971-4390-d163-a18c64a7a285"
      },
      "source": [
        "from google.colab import files\n",
        "uploaded = files.upload()"
      ],
      "execution_count": null,
      "outputs": [
        {
          "data": {
            "text/html": [
              "\n",
              "     <input type=\"file\" id=\"files-bb9b36bd-f41b-43ac-b264-ee004ff8f1db\" name=\"files[]\" multiple disabled\n",
              "        style=\"border:none\" />\n",
              "     <output id=\"result-bb9b36bd-f41b-43ac-b264-ee004ff8f1db\">\n",
              "      Upload widget is only available when the cell has been executed in the\n",
              "      current browser session. Please rerun this cell to enable.\n",
              "      </output>\n",
              "      <script src=\"/nbextensions/google.colab/files.js\"></script> "
            ],
            "text/plain": [
              "<IPython.core.display.HTML object>"
            ]
          },
          "metadata": {},
          "output_type": "display_data"
        },
        {
          "name": "stdout",
          "output_type": "stream",
          "text": [
            "Saving EsCo to EsCo\n"
          ]
        }
      ]
    },
    {
      "cell_type": "markdown",
      "metadata": {
        "id": "rnAJWoEsiXUE"
      },
      "source": [
        "HUFFMAN ENCODING"
      ]
    },
    {
      "cell_type": "code",
      "metadata": {
        "id": "89ORNyy9hF4q"
      },
      "source": [
        "def HuffmanProbabilty(path):\n",
        "  aeca= open(path, \"r\")\n",
        "  while 1:\n",
        "    str=aeca.read(1)\n",
        "    if not str:\n",
        "        p['n']=p['n']+1\n",
        "        break\n",
        "    p[str]=p[str]+1\n",
        "\n",
        "  print(p)\n",
        "  tot=0\n",
        "  for i in p:\n",
        "    tot=tot+ p[i]\n",
        "  print(entry.path,tot)\n",
        "\n",
        "  aeca.close()"
      ],
      "execution_count": 2,
      "outputs": []
    },
    {
      "cell_type": "code",
      "metadata": {
        "colab": {
          "base_uri": "https://localhost:8080/"
        },
        "id": "pR1-TKtCT9Ll",
        "outputId": "beb60fb8-7913-45f0-a71d-0c6d1c943bf1"
      },
      "source": [
        "from google.colab import drive\n",
        "drive.mount('/content/drive')"
      ],
      "execution_count": 3,
      "outputs": [
        {
          "output_type": "stream",
          "name": "stdout",
          "text": [
            "Mounted at /content/drive\n"
          ]
        }
      ]
    },
    {
      "cell_type": "code",
      "metadata": {
        "colab": {
          "base_uri": "https://localhost:8080/"
        },
        "id": "cC4pNIQ1hK3J",
        "outputId": "4d4c61ab-5df9-4b7e-d60c-9e3b689dbc62"
      },
      "source": [
        "os.chdir('/content/drive/MyDrive/OG files/test')\n",
        "cwd=os.getcwd()\n",
        "print(cwd)\n",
        "\n",
        "p={'A':0, 'T':0, 'G':0, 'C':0, 'n':0} #{A, T, G, C, eof}\n",
        "\n",
        "for entry in os.scandir(cwd):\n",
        " HuffmanProbabilty(entry.path)\n",
        "\n",
        "# p={'A':1623606, 'T':1633397, 'G':2007934, 'C':2020541, 'n': 6}\n",
        "p1= sorted(p.items(), key =lambda kv:(kv[1], kv[0]), reverse= True)\n",
        "print(p1)"
      ],
      "execution_count": 4,
      "outputs": [
        {
          "output_type": "stream",
          "name": "stdout",
          "text": [
            "/content/drive/MyDrive/OG files/test\n",
            "{'A': 1142742, 'T': 1141382, 'G': 1177437, 'C': 1180091, 'n': 1}\n",
            "/content/drive/MyDrive/OG files/test/EsCo 4641653\n",
            "[('C', 1180091), ('G', 1177437), ('A', 1142742), ('T', 1141382), ('n', 1)]\n"
          ]
        }
      ]
    },
    {
      "cell_type": "code",
      "metadata": {
        "colab": {
          "base_uri": "https://localhost:8080/"
        },
        "id": "VWyDMYNuhOMo",
        "outputId": "80c494f2-7f27-4008-ef72-197e7d21b666"
      },
      "source": [
        "tot=0\n",
        "for i in p:\n",
        "  tot=tot+ p[i]\n",
        "print(\"Total number of symbols:\",tot)"
      ],
      "execution_count": 5,
      "outputs": [
        {
          "output_type": "stream",
          "name": "stdout",
          "text": [
            "Total number of symbols: 4641653\n"
          ]
        }
      ]
    },
    {
      "cell_type": "code",
      "metadata": {
        "id": "231hhXR_hRGd"
      },
      "source": [
        "class HuffmanCode:\n",
        "    def __init__(self,probability):\n",
        "        self.probability = probability\n",
        "\n",
        "    def position(self, value, index):\n",
        "        for j in range(len(self.probability)):\n",
        "            if(value >= self.probability[j]):\n",
        "                return j\n",
        "        return index-1\n",
        "\n",
        "    def characteristics_huffman_code(self, code):\n",
        "        length_of_code = [len(k) for k in code]\n",
        "\n",
        "        mean_length = sum([a*b for a, b in zip(length_of_code, self.probability)])\n",
        "\n",
        "        print(\"Average length of the code: %f\" % mean_length)\n",
        "        print(\"Efficiency of the code: %f\" % (entropy_of_code/mean_length))\n",
        "        print(\"Redundancy of the code: %f\" %(mean_length-entropy_of_code))\n",
        "\n",
        "    def compute_code(self):\n",
        "        num = len(self.probability)\n",
        "        huffman_code = ['']*num\n",
        "\n",
        "        for i in range(num-2):\n",
        "            val = self.probability[num-i-1] + self.probability[num-i-2]\n",
        "            if(huffman_code[num-i-1] != '' and huffman_code[num-i-2] != ''):\n",
        "                huffman_code[-1] = ['1' + symbol for symbol in huffman_code[-1]]\n",
        "                huffman_code[-2] = ['0' + symbol for symbol in huffman_code[-2]]\n",
        "            elif(huffman_code[num-i-1] != ''):\n",
        "                huffman_code[num-i-2] = '0'\n",
        "                huffman_code[-1] = ['1' + symbol for symbol in huffman_code[-1]]\n",
        "            elif(huffman_code[num-i-2] != ''):\n",
        "                huffman_code[num-i-1] = '1'\n",
        "                huffman_code[-2] = ['0' + symbol for symbol in huffman_code[-2]]\n",
        "            else:\n",
        "                huffman_code[num-i-1] = '1'\n",
        "                huffman_code[num-i-2] = '0'\n",
        "\n",
        "            position = self.position(val, i)\n",
        "            probability = self.probability[0:(len(self.probability) - 2)]\n",
        "            probability.insert(position, val)\n",
        "            if(isinstance(huffman_code[num-i-2], list) and isinstance(huffman_code[num-i-1], list)):\n",
        "                complete_code = huffman_code[num-i-1] + huffman_code[num-i-2]\n",
        "            elif(isinstance(huffman_code[num-i-2], list)):\n",
        "                complete_code = huffman_code[num-i-2] + [huffman_code[num-i-1]]\n",
        "            elif(isinstance(huffman_code[num-i-1], list)):\n",
        "                complete_code = huffman_code[num-i-1] + [huffman_code[num-i-2]]\n",
        "            else:\n",
        "                complete_code = [huffman_code[num-i-2], huffman_code[num-i-1]]\n",
        "\n",
        "            huffman_code = huffman_code[0:(len(huffman_code)-2)]\n",
        "            huffman_code.insert(position, complete_code)\n",
        "\n",
        "        huffman_code[0] = ['0' + symbol for symbol in huffman_code[0]]\n",
        "        huffman_code[1] = ['1' + symbol for symbol in huffman_code[1]]\n",
        "\n",
        "        if(len(huffman_code[1]) == 0):\n",
        "            huffman_code[1] = '1'\n",
        "\n",
        "        count = 0\n",
        "        final_code = ['']*num\n",
        "\n",
        "        for i in range(2):\n",
        "            for j in range(len(huffman_code[i])):\n",
        "                final_code[count] = huffman_code[i][j]\n",
        "                count += 1\n",
        "\n",
        "        final_code = sorted(final_code, key=len)\n",
        "        return final_code"
      ],
      "execution_count": 6,
      "outputs": []
    },
    {
      "cell_type": "code",
      "metadata": {
        "colab": {
          "base_uri": "https://localhost:8080/"
        },
        "id": "T1PfZ8RWhVVN",
        "outputId": "ec89104c-f18c-43a0-dcba-859e82cd7615"
      },
      "source": [
        "prob= [float(\"{:.10f}\".format(p[i]/tot)) for i in p]\n",
        "print(prob)\n",
        "P= sorted(prob, reverse=True)\n",
        "\n",
        "entropy_of_code=0.00000000\n",
        "for i in prob:\n",
        "    entropy_of_code=entropy_of_code-(i*math.log(i, 2))\n",
        "\n",
        "# print('Entropy of the code: ',entropy_of_code)\n",
        "\n",
        "huffmanClassObject = HuffmanCode(P)\n",
        "huffman_code = huffmanClassObject.compute_code()\n",
        "\n",
        "print(' Char | Huffman code ')\n",
        "print('----------------------')\n",
        "\n",
        "for id,char in enumerate(p1):\n",
        "    if huffman_code[id]=='':\n",
        "        print(' %-4r |%12s' % (char[0], 1))\n",
        "        continue\n",
        "    print(' %-4r |%12s' % (char[0], huffman_code[id]))\n",
        "\n",
        "# print(huffman_code)\n",
        "print('Entropy of the code: ',entropy_of_code)\n",
        "huffmanClassObject.characteristics_huffman_code(huffman_code)"
      ],
      "execution_count": 7,
      "outputs": [
        {
          "output_type": "stream",
          "name": "stdout",
          "text": [
            "[0.2461928972, 0.2458998982, 0.2536676051, 0.2542393841, 2.154e-07]\n",
            " Char | Huffman code \n",
            "----------------------\n",
            " 'C'  |          00\n",
            " 'G'  |          01\n",
            " 'A'  |          10\n",
            " 'T'  |         110\n",
            " 'n'  |         111\n",
            "Entropy of the code:  1.9998236517042363\n",
            "Average length of the code: 2.245900\n",
            "Efficiency of the code: 0.890433\n",
            "Redundancy of the code: 0.246076\n"
          ]
        }
      ]
    },
    {
      "cell_type": "code",
      "metadata": {
        "colab": {
          "base_uri": "https://localhost:8080/"
        },
        "id": "BN2kE803hZZD",
        "outputId": "40c09212-0a14-42c9-a4cc-bcacffd25703"
      },
      "source": [
        "code={}\n",
        "for id, char in enumerate(p1):\n",
        "    if huffman_code[id]=='':\n",
        "        code[char[0]]=1\n",
        "        continue\n",
        "    code[char[0]]=huffman_code[id]\n",
        "\n",
        "print(code)"
      ],
      "execution_count": 8,
      "outputs": [
        {
          "output_type": "stream",
          "name": "stdout",
          "text": [
            "{'C': '00', 'G': '01', 'A': '10', 'T': '110', 'n': '111'}\n"
          ]
        }
      ]
    },
    {
      "cell_type": "code",
      "metadata": {
        "id": "oDfPl2UNhlRx"
      },
      "source": [
        "filew= open('/content/Encoded', 'wb')\n",
        "for entry in os.scandir(cwd):\n",
        "  filer= open(entry.path, 'r')\n",
        "  while 1:\n",
        "    str=filer.read(1)\n",
        "    if not str:\n",
        "        filew.write(int(code['n'], 2).to_bytes((len(code['n']) + 7) // 8, 'big'))\n",
        "        break\n",
        "    filew.write(int(code[str], 2).to_bytes((len(code[str]) + 7) // 8, 'big'))\n",
        "  filer.close()\n",
        "\n",
        "filew.close()"
      ],
      "execution_count": 9,
      "outputs": []
    },
    {
      "cell_type": "code",
      "metadata": {
        "colab": {
          "base_uri": "https://localhost:8080/"
        },
        "id": "NvVe0ED9hofQ",
        "outputId": "3ccb401a-c5c1-406b-f290-6308bb414d37"
      },
      "source": [
        "with open('/content/Encoded', 'rb') as f:\n",
        "    print(f.read(20))"
      ],
      "execution_count": 10,
      "outputs": [
        {
          "output_type": "stream",
          "name": "stdout",
          "text": [
            "b'\\x02\\x01\\x00\\x06\\x06\\x06\\x06\\x00\\x02\\x06\\x06\\x00\\x06\\x01\\x02\\x00\\x06\\x01\\x00\\x02'\n"
          ]
        }
      ]
    },
    {
      "cell_type": "code",
      "metadata": {
        "colab": {
          "base_uri": "https://localhost:8080/"
        },
        "id": "HdXqq9DrhrY7",
        "outputId": "190b19fa-fd38-4011-989a-7abbb34c6483"
      },
      "source": [
        "size = os.path.getsize('/content/Encoded') \n",
        "print('Size of file is', size, 'bytes')"
      ],
      "execution_count": 11,
      "outputs": [
        {
          "output_type": "stream",
          "name": "stdout",
          "text": [
            "Size of file is 4641653 bytes\n"
          ]
        }
      ]
    },
    {
      "cell_type": "code",
      "metadata": {
        "id": "P2vF0_KpBH_Z"
      },
      "source": [
        "filew= open('/content/Encoded1', 'w')\n",
        "for entry in os.scandir(cwd):\n",
        "  filer= open(entry.path, 'r')\n",
        "  while 1:\n",
        "    str=filer.read(1)\n",
        "    if not str:\n",
        "        filew.write(code['n'])\n",
        "        filew.write('/')\n",
        "        break\n",
        "    filew.write(code[str])\n",
        "    filew.write('/')\n",
        "  filer.close()\n",
        "\n",
        "filew.close()"
      ],
      "execution_count": 12,
      "outputs": []
    },
    {
      "cell_type": "code",
      "metadata": {
        "colab": {
          "base_uri": "https://localhost:8080/"
        },
        "id": "OF0_CSPpBRbg",
        "outputId": "cf3a0751-35e0-4056-96cf-a2cd2718f66d"
      },
      "source": [
        "encod= open('/content/Encoded1', 'rb')\n",
        "dat = encod.read()\n",
        "leng = len(dat)\n",
        "encod.close()\n",
        "print(leng)"
      ],
      "execution_count": 13,
      "outputs": [
        {
          "output_type": "stream",
          "name": "stdout",
          "text": [
            "15066342\n"
          ]
        }
      ]
    },
    {
      "cell_type": "code",
      "metadata": {
        "id": "QIDMDBHqBcCE"
      },
      "source": [
        "import pandas as pd\n",
        "data = pd.read_csv('/content/Encoded1', header=None, delimiter = '/')\n",
        "data.columns = [x for x in range(4641653+1)]\n",
        "#data.columns = ['code']\n",
        "data.to_csv('encoder.csv', index = None)\n",
        "dataset = pd.read_csv('encoder.csv')\n",
        "dataset.head()\n",
        "dat = dataset.dropna(axis='columns')"
      ],
      "execution_count": 14,
      "outputs": []
    },
    {
      "cell_type": "code",
      "metadata": {
        "id": "-W-lyhUEFqNt"
      },
      "source": [
        "Labels=np.array(dat)"
      ],
      "execution_count": 15,
      "outputs": []
    },
    {
      "cell_type": "code",
      "metadata": {
        "colab": {
          "base_uri": "https://localhost:8080/"
        },
        "id": "8VSWeqihFxdZ",
        "outputId": "193725ec-8e45-4d7f-d206-1fc7cff99645"
      },
      "source": [
        "print(np.shape(Labels))"
      ],
      "execution_count": 16,
      "outputs": [
        {
          "output_type": "stream",
          "name": "stdout",
          "text": [
            "(1, 4641653)\n"
          ]
        }
      ]
    },
    {
      "cell_type": "code",
      "metadata": {
        "colab": {
          "base_uri": "https://localhost:8080/"
        },
        "id": "v4ck1ID5F0TR",
        "outputId": "99cb9b07-4a6d-4a4d-e5b8-9c8d79d801cf"
      },
      "source": [
        "padded = np.zeros((1,7))\n",
        "for i in padded:\n",
        "  Label = np.append(Labels, i)\n",
        "Label = Label.reshape(25787,180)\n",
        "print(np.shape(Label))\n",
        "Label = Label/111"
      ],
      "execution_count": 17,
      "outputs": [
        {
          "output_type": "stream",
          "name": "stdout",
          "text": [
            "(25787, 180)\n"
          ]
        }
      ]
    },
    {
      "cell_type": "code",
      "metadata": {
        "id": "4VpMTMxm_XRE"
      },
      "source": [
        "from tensorflow import keras\n",
        "model = keras.models.load_model('/content/Autoencoder.h5')"
      ],
      "execution_count": 19,
      "outputs": []
    },
    {
      "cell_type": "code",
      "metadata": {
        "id": "oLJa2FYnXFAc"
      },
      "source": [
        "prediction = model.predict([Label]) "
      ],
      "execution_count": 25,
      "outputs": []
    },
    {
      "cell_type": "code",
      "metadata": {
        "colab": {
          "base_uri": "https://localhost:8080/"
        },
        "id": "6J8F8wmoYJi2",
        "outputId": "77b8c2dd-49ce-4a4d-f910-3d66ebf7cbda"
      },
      "source": [
        "prediction"
      ],
      "execution_count": 26,
      "outputs": [
        {
          "output_type": "execute_result",
          "data": {
            "text/plain": [
              "array([[0.00291857, 0.08916831, 0.02821505, ..., 0.2536646 , 0.04527524,\n",
              "        0.01570511],\n",
              "       [0.01105168, 0.00248054, 0.03513026, ..., 0.03098789, 0.11041889,\n",
              "        0.46714407],\n",
              "       [0.00581497, 0.01903915, 0.2390404 , ..., 0.00434008, 0.01626524,\n",
              "        0.2045964 ],\n",
              "       ...,\n",
              "       [0.7584019 , 0.85019875, 0.7592141 , ..., 0.04838613, 0.35202622,\n",
              "        0.03544095],\n",
              "       [0.5192394 , 0.18732858, 0.08892247, ..., 0.03527457, 0.08210009,\n",
              "        0.18196121],\n",
              "       [0.04442734, 0.10426667, 0.4565608 , ..., 0.25426924, 0.04426172,\n",
              "        0.02866966]], dtype=float32)"
            ]
          },
          "metadata": {},
          "execution_count": 26
        }
      ]
    },
    {
      "cell_type": "code",
      "metadata": {
        "id": "p1Lpm4Z-YQip"
      },
      "source": [
        "prediction=prediction*100\n",
        "print(np.shape(prediction))"
      ],
      "execution_count": null,
      "outputs": []
    },
    {
      "cell_type": "markdown",
      "metadata": {
        "id": "kAGPiQKxj3nE"
      },
      "source": [
        "HUFFMAN DECODING"
      ]
    },
    {
      "cell_type": "code",
      "metadata": {
        "id": "eCmfsIEYj6Q1"
      },
      "source": [
        "COUNT= [10]\n",
        "class Node:\n",
        "    def __init__(self,key):\n",
        "        self.left = None\n",
        "        self.right = None\n",
        "        self.val = key\n",
        "\n",
        "    def PrintTree(self):\n",
        "      if self.left:\n",
        "         self.left.PrintTree()\n",
        "      print( self.val),\n",
        "      if self.right:\n",
        "         self.right.PrintTree()"
      ],
      "execution_count": null,
      "outputs": []
    },
    {
      "cell_type": "code",
      "metadata": {
        "id": "567PIo0foReE"
      },
      "source": [
        "root=Node('r')\n",
        "root.left      = Node('l1');\n",
        "root.right     = Node('r1');\n",
        "\n",
        "root.left.left = Node('A');\n",
        "root.left.right = Node('T');\n",
        "\n",
        "root.right.right= Node('C');\n",
        "root.right.left= Node('r2');\n",
        "\n",
        "root.right.left.left= Node('G');\n",
        "root.right.left.right= Node('n');\n",
        "\n",
        "root.PrintTree()"
      ],
      "execution_count": null,
      "outputs": []
    },
    {
      "cell_type": "code",
      "metadata": {
        "id": "ERiF5DGUrnSP"
      },
      "source": [
        "#on technicality, it should work, but it doesn't\n",
        "f1= open('/content/Encoded', 'rb')\n",
        "filew= open('/content/decoded', 'w')\n",
        "curr_node=root\n",
        "c=f1.read(1)\n",
        "\n",
        "while c:\n",
        "  print(c)\n",
        "  if c == bin(0):\n",
        "    if curr_node.left==None:\n",
        "      a=curr_node.val\n",
        "      if a=='n':\n",
        "        filew.close()\n",
        "        break\n",
        "      else:\n",
        "        filew.write(a)\n",
        "      curr_node=root\n",
        "    else:\n",
        "      curr_node= curr_node.left\n",
        "\n",
        "  elif c == bin(1):\n",
        "    if curr_node.right==None:\n",
        "      a=curr_node.val\n",
        "      if a=='n':\n",
        "        filew.close()\n",
        "        break\n",
        "      else:\n",
        "        filew.write(a)\n",
        "      filew.write(curr_node.val)\n",
        "      curr_node=root\n",
        "    else:\n",
        "      curr_node= curr_node.right\n",
        "  c= f1.read(1)\n",
        "\n",
        "f1.close()"
      ],
      "execution_count": null,
      "outputs": []
    },
    {
      "cell_type": "code",
      "metadata": {
        "id": "3OC50Io-BiOl"
      },
      "source": [
        "filew= open('/content/decoded', 'w')\n",
        "for i in range (25787): \n",
        "  for j in range (180):\n",
        "    c=prediction[i][j]\n",
        "    if c<=1:\n",
        "      w='C'\n",
        "    elif c>1 and c<=10:\n",
        "      w='G'\n",
        "    elif c>10 and c<=110:\n",
        "      w='T'\n",
        "    elif c>110 and c<=111:\n",
        "      w='A'\n",
        "    elif c>111:\n",
        "      filew.close()\n",
        "      break\n",
        "    filew.write(w)    \n",
        "    j=j+1\n",
        "  i=i+1\n"
      ],
      "execution_count": 38,
      "outputs": []
    },
    {
      "cell_type": "code",
      "metadata": {
        "colab": {
          "base_uri": "https://localhost:8080/"
        },
        "id": "I_tw38SECzxw",
        "outputId": "c70ced5e-76c3-4227-d920-46171e4bf8d9"
      },
      "source": [
        "f1=open('/content/decoded', 'r')\n",
        "print(\"DECODED file:\")\n",
        "print(f1.read(20))\n",
        "f1.close"
      ],
      "execution_count": 39,
      "outputs": [
        {
          "output_type": "stream",
          "name": "stdout",
          "text": [
            "DECODED file:\n",
            "CGGTTTTGGTTCTGCGTTGG\n"
          ]
        },
        {
          "output_type": "execute_result",
          "data": {
            "text/plain": [
              "<function TextIOWrapper.close>"
            ]
          },
          "metadata": {},
          "execution_count": 39
        }
      ]
    },
    {
      "cell_type": "code",
      "metadata": {
        "id": "XaICapuBKVPI",
        "colab": {
          "base_uri": "https://localhost:8080/"
        },
        "outputId": "7296f0ea-1b03-4df8-ab04-500894a16a73"
      },
      "source": [
        "f1=open('/content/drive/MyDrive/OG files/test/EsCo','r')\n",
        "print(\"ORIGINAL file:\")\n",
        "print(f1.read(20))\n",
        "f1.close"
      ],
      "execution_count": 40,
      "outputs": [
        {
          "output_type": "stream",
          "name": "stdout",
          "text": [
            "ORIGINAL file:\n",
            "AGCTTTTCATTCTGACTGCA\n"
          ]
        },
        {
          "output_type": "execute_result",
          "data": {
            "text/plain": [
              "<function TextIOWrapper.close>"
            ]
          },
          "metadata": {},
          "execution_count": 40
        }
      ]
    },
    {
      "cell_type": "code",
      "metadata": {
        "colab": {
          "base_uri": "https://localhost:8080/"
        },
        "id": "QCAj0KeHhDH0",
        "outputId": "e6e84e15-6d6b-4ee2-93a1-ba2e221830fb"
      },
      "source": [
        "size = os.path.getsize('/content/drive/MyDrive/OG files/test/EsCo') \n",
        "print('Original Size of file is', size, 'bytes')"
      ],
      "execution_count": 45,
      "outputs": [
        {
          "output_type": "stream",
          "name": "stdout",
          "text": [
            "Original Size of file is 4641652 bytes\n"
          ]
        }
      ]
    },
    {
      "cell_type": "code",
      "metadata": {
        "colab": {
          "base_uri": "https://localhost:8080/"
        },
        "id": "nxMk9H2nhI8q",
        "outputId": "e33355ae-e3c7-4f01-a651-28347d7a6668"
      },
      "source": [
        "size = os.path.getsize('/content/decoded') \n",
        "print('Reconstructed Size of file is', size, 'bytes')"
      ],
      "execution_count": 46,
      "outputs": [
        {
          "output_type": "stream",
          "name": "stdout",
          "text": [
            "Reconstructed Size of file is 4637238 bytes\n"
          ]
        }
      ]
    }
  ]
}