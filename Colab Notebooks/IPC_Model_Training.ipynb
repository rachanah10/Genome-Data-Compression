{
  "nbformat": 4,
  "nbformat_minor": 0,
  "metadata": {
    "colab": {
      "name": "IPC_Model Training.ipynb",
      "provenance": [],
      "collapsed_sections": []
    },
    "kernelspec": {
      "display_name": "Python 3",
      "name": "python3"
    },
    "language_info": {
      "name": "python"
    }
  },
  "cells": [
    {
      "cell_type": "markdown",
      "metadata": {
        "id": "akciKL24QraR"
      },
      "source": [
        "Importing Libraries and uploading all the genome files"
      ]
    },
    {
      "cell_type": "code",
      "metadata": {
        "colab": {
          "resources": {
            "http://localhost:8080/nbextensions/google.colab/files.js": {
              "data": "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",
              "ok": true,
              "headers": [
                [
                  "content-type",
                  "application/javascript"
                ]
              ],
              "status": 200,
              "status_text": ""
            }
          },
          "base_uri": "https://localhost:8080/",
          "height": 247
        },
        "id": "c7JJEbusRNKw",
        "outputId": "b522a79a-07dc-42ba-c049-6203dbc9b80e"
      },
      "source": [
        "import numpy as np\n",
        "import os\n",
        "import heapq\n",
        "import math\n",
        "from heapq import heappop, heappush\n",
        "from google.colab import files\n",
        "uploaded = files.upload()\n",
        "#data = np.loadtxt(filename, dtype=str)\n",
        "#data = np.loadtxt('HoSa.txt', dtype=str)"
      ],
      "execution_count": null,
      "outputs": [
        {
          "output_type": "display_data",
          "data": {
            "text/html": [
              "\n",
              "     <input type=\"file\" id=\"files-7d9be18b-0263-4f25-9464-10c37436c07a\" name=\"files[]\" multiple disabled\n",
              "        style=\"border:none\" />\n",
              "     <output id=\"result-7d9be18b-0263-4f25-9464-10c37436c07a\">\n",
              "      Upload widget is only available when the cell has been executed in the\n",
              "      current browser session. Please rerun this cell to enable.\n",
              "      </output>\n",
              "      <script src=\"/nbextensions/google.colab/files.js\"></script> "
            ],
            "text/plain": [
              "<IPython.core.display.HTML object>"
            ]
          },
          "metadata": {}
        },
        {
          "output_type": "stream",
          "name": "stdout",
          "text": [
            "Saving HaHi to HaHi\n",
            "Saving HePy to HePy\n",
            "Saving AeCa to AeCa\n",
            "Saving YeMi to YeMi\n",
            "Saving AgPh to AgPh\n",
            "Saving BuEb to BuEb\n"
          ]
        }
      ]
    },
    {
      "cell_type": "markdown",
      "metadata": {
        "id": "_xeirEdU3hl0"
      },
      "source": [
        "Making a Directory and calculating the frequency of each symbol"
      ]
    },
    {
      "cell_type": "code",
      "metadata": {
        "colab": {
          "base_uri": "https://localhost:8080/"
        },
        "id": "PM7mSQvY3md7",
        "outputId": "58fe966c-d61b-44d2-b6e8-249408add11b"
      },
      "source": [
        "os.chdir('/content/data corpus')\n",
        "cwd=os.getcwd()\n",
        "print(cwd)\n",
        "\n",
        "p={'A':0, 'T':0, 'G':0, 'C':0, 'n':0} #{A, T, G, C, eof}\n",
        "\n",
        "for entry in os.scandir(cwd):\n",
        " HuffmanProbabilty(entry.path)\n",
        "p1= sorted(p.items(), key =lambda kv:(kv[1], kv[0]), reverse= True)\n",
        "print(p1)"
      ],
      "execution_count": null,
      "outputs": [
        {
          "output_type": "stream",
          "name": "stdout",
          "text": [
            "/content/data corpus\n",
            "{'A': 5964, 'T': 5020, 'G': 3632, 'C': 4324, 'n': 1}\n",
            "/content/data corpus/BuEb 18941\n",
            "{'A': 18181, 'T': 18111, 'G': 12413, 'C': 14205, 'n': 2}\n",
            "/content/data corpus/AgPh 62912\n",
            "{'A': 44687, 'T': 43454, 'G': 23319, 'C': 25139, 'n': 3}\n",
            "/content/data corpus/YeMi 136602\n",
            "{'A': 550084, 'T': 557529, 'G': 344592, 'C': 352219, 'n': 4}\n",
            "/content/data corpus/HePy 1804428\n",
            "{'A': 1279021, 'T': 1289108, 'G': 1558369, 'C': 1567931, 'n': 5}\n",
            "/content/data corpus/HaHi 5694434\n",
            "{'A': 1623606, 'T': 1633397, 'G': 2007934, 'C': 2020541, 'n': 6}\n",
            "/content/data corpus/AeCa 7285484\n",
            "[('C', 2020541), ('G', 2007934), ('T', 1633397), ('A', 1623606), ('n', 6)]\n"
          ]
        }
      ]
    },
    {
      "cell_type": "code",
      "metadata": {
        "colab": {
          "base_uri": "https://localhost:8080/"
        },
        "id": "HjPNrnHB1LdI",
        "outputId": "49c4ae6e-89e7-4c7f-ff3d-181d3dc447ce"
      },
      "source": [
        "tot=0\n",
        "for i in p:\n",
        "  tot=tot+ p[i]\n",
        "print(\"Total number of symbols:\",tot)"
      ],
      "execution_count": null,
      "outputs": [
        {
          "output_type": "stream",
          "name": "stdout",
          "text": [
            "Total number of symbols: 7285484\n"
          ]
        }
      ]
    },
    {
      "cell_type": "markdown",
      "metadata": {
        "id": "195OYmB3odnx"
      },
      "source": [
        "**Huffman Coding**"
      ]
    },
    {
      "cell_type": "code",
      "metadata": {
        "id": "dtBAzAtFRY2v"
      },
      "source": [
        "def HuffmanProbabilty(path):\n",
        "  aeca= open(path, \"r\")\n",
        "  while 1:\n",
        "    str=aeca.read(1)\n",
        "    if not str:\n",
        "        p['n']=p['n']+1\n",
        "        break\n",
        "    p[str]=p[str]+1\n",
        "\n",
        "  print(p)\n",
        "  tot=0\n",
        "  for i in p:\n",
        "    tot=tot+ p[i]\n",
        "  print(entry.path,tot)\n",
        "\n",
        "  aeca.close()"
      ],
      "execution_count": null,
      "outputs": []
    },
    {
      "cell_type": "code",
      "metadata": {
        "id": "jnquIJwYRvAU"
      },
      "source": [
        "class HuffmanCode:\n",
        "    def __init__(self,probability):\n",
        "        self.probability = probability\n",
        "\n",
        "    def position(self, value, index):\n",
        "        for j in range(len(self.probability)):\n",
        "            if(value >= self.probability[j]):\n",
        "                return j\n",
        "        return index-1\n",
        "\n",
        "    def characteristics_huffman_code(self, code):\n",
        "        length_of_code = [len(k) for k in code]\n",
        "\n",
        "        mean_length = sum([a*b for a, b in zip(length_of_code, self.probability)])\n",
        "\n",
        "        print(\"Average length of the code: %f\" % mean_length)\n",
        "        print(\"Efficiency of the code: %f\" % (entropy_of_code/mean_length))\n",
        "        print(\"Redundancy of the code: %f\" %(mean_length-entropy_of_code))\n",
        "\n",
        "    def compute_code(self):\n",
        "        num = len(self.probability)\n",
        "        huffman_code = ['']*num\n",
        "\n",
        "        for i in range(num-2):\n",
        "            val = self.probability[num-i-1] + self.probability[num-i-2]\n",
        "            if(huffman_code[num-i-1] != '' and huffman_code[num-i-2] != ''):\n",
        "                huffman_code[-1] = ['1' + symbol for symbol in huffman_code[-1]]\n",
        "                huffman_code[-2] = ['0' + symbol for symbol in huffman_code[-2]]\n",
        "            elif(huffman_code[num-i-1] != ''):\n",
        "                huffman_code[num-i-2] = '0'\n",
        "                huffman_code[-1] = ['1' + symbol for symbol in huffman_code[-1]]\n",
        "            elif(huffman_code[num-i-2] != ''):\n",
        "                huffman_code[num-i-1] = '1'\n",
        "                huffman_code[-2] = ['0' + symbol for symbol in huffman_code[-2]]\n",
        "            else:\n",
        "                huffman_code[num-i-1] = '1'\n",
        "                huffman_code[num-i-2] = '0'\n",
        "\n",
        "            position = self.position(val, i)\n",
        "            probability = self.probability[0:(len(self.probability) - 2)]\n",
        "            probability.insert(position, val)\n",
        "            if(isinstance(huffman_code[num-i-2], list) and isinstance(huffman_code[num-i-1], list)):\n",
        "                complete_code = huffman_code[num-i-1] + huffman_code[num-i-2]\n",
        "            elif(isinstance(huffman_code[num-i-2], list)):\n",
        "                complete_code = huffman_code[num-i-2] + [huffman_code[num-i-1]]\n",
        "            elif(isinstance(huffman_code[num-i-1], list)):\n",
        "                complete_code = huffman_code[num-i-1] + [huffman_code[num-i-2]]\n",
        "            else:\n",
        "                complete_code = [huffman_code[num-i-2], huffman_code[num-i-1]]\n",
        "\n",
        "            huffman_code = huffman_code[0:(len(huffman_code)-2)]\n",
        "            huffman_code.insert(position, complete_code)\n",
        "\n",
        "        huffman_code[0] = ['0' + symbol for symbol in huffman_code[0]]\n",
        "        huffman_code[1] = ['1' + symbol for symbol in huffman_code[1]]\n",
        "\n",
        "        if(len(huffman_code[1]) == 0):\n",
        "            huffman_code[1] = '1'\n",
        "\n",
        "        count = 0\n",
        "        final_code = ['']*num\n",
        "\n",
        "        for i in range(2):\n",
        "            for j in range(len(huffman_code[i])):\n",
        "                final_code[count] = huffman_code[i][j]\n",
        "                count += 1\n",
        "\n",
        "        final_code = sorted(final_code, key=len)\n",
        "        return final_code"
      ],
      "execution_count": null,
      "outputs": []
    },
    {
      "cell_type": "code",
      "metadata": {
        "colab": {
          "base_uri": "https://localhost:8080/"
        },
        "id": "h67zBRRMR1Ao",
        "outputId": "1f350f9f-9b97-4266-fe3f-120191a2ab0c"
      },
      "source": [
        "prob= [float(\"{:.10f}\".format(p[i]/tot)) for i in p]\n",
        "print(prob)\n",
        "P= sorted(prob, reverse=True)\n",
        "\n",
        "entropy_of_code=0.00000000\n",
        "for i in prob:\n",
        "    entropy_of_code=entropy_of_code-(i*math.log(i, 2))\n",
        "\n",
        "# print('Entropy of the code: ',entropy_of_code)\n",
        "\n",
        "huffmanClassObject = HuffmanCode(P)\n",
        "huffman_code = huffmanClassObject.compute_code()\n",
        "\n",
        "print(' Char | Huffman code ')\n",
        "print('----------------------')\n",
        "\n",
        "for id,char in enumerate(p1):\n",
        "    if huffman_code[id]=='':\n",
        "        print(' %-4r |%12s' % (char[0], 1))\n",
        "        continue\n",
        "    print(' %-4r |%12s' % (char[0], huffman_code[id]))\n",
        "\n",
        "# print(huffman_code)\n",
        "print('Entropy of the code: ',entropy_of_code)\n",
        "huffmanClassObject.characteristics_huffman_code(huffman_code)"
      ],
      "execution_count": null,
      "outputs": [
        {
          "output_type": "stream",
          "name": "stdout",
          "text": [
            "[0.2228549263, 0.2241988315, 0.2756074957, 0.2773379229, 8.236e-07]\n",
            " Char | Huffman code \n",
            "----------------------\n",
            " 'C'  |          00\n",
            " 'G'  |          01\n",
            " 'T'  |          10\n",
            " 'A'  |         110\n",
            " 'n'  |         111\n",
            "Entropy of the code:  1.991905674289159\n",
            "Average length of the code: 2.222856\n",
            "Efficiency of the code: 0.896102\n",
            "Redundancy of the code: 0.230950\n"
          ]
        }
      ]
    },
    {
      "cell_type": "code",
      "metadata": {
        "colab": {
          "base_uri": "https://localhost:8080/"
        },
        "id": "kvYt2ynOZYym",
        "outputId": "10186f5c-30d0-473a-ff6a-adda8a8552ed"
      },
      "source": [
        "#for fixed length code\n",
        "print('Entropy of the code: ',entropy_of_code)\n",
        "print('Average length of the code: ',3)\n",
        "print('Efficiency of the code: ', (entropy_of_code/3) )\n",
        "print(\"Redundancy of the code: \" ,(3-entropy_of_code))"
      ],
      "execution_count": null,
      "outputs": [
        {
          "output_type": "stream",
          "name": "stdout",
          "text": [
            "Entropy of the code:  1.991905674289159\n",
            "Average length of the code:  3\n",
            "Efficiency of the code:  0.6639685580963863\n",
            "Redundancy of the code:  1.008094325710841\n"
          ]
        }
      ]
    },
    {
      "cell_type": "code",
      "metadata": {
        "colab": {
          "base_uri": "https://localhost:8080/"
        },
        "id": "O1kMW1XYSBhx",
        "outputId": "670f4459-ae0b-4ddd-e796-538f9467ce21"
      },
      "source": [
        "code={}\n",
        "for id, char in enumerate(p1):\n",
        "    if huffman_code[id]=='':\n",
        "        code[char[0]]=1\n",
        "        continue\n",
        "    code[char[0]]=huffman_code[id]\n",
        "\n",
        "print(code)"
      ],
      "execution_count": null,
      "outputs": [
        {
          "output_type": "stream",
          "name": "stdout",
          "text": [
            "{'C': '00', 'G': '01', 'T': '10', 'A': '110', 'n': '111'}\n"
          ]
        }
      ]
    },
    {
      "cell_type": "markdown",
      "metadata": {
        "id": "Y8O6_RhwJlxa"
      },
      "source": [
        "Creating a new huffman encoded file consisting of all the species corpus"
      ]
    },
    {
      "cell_type": "code",
      "metadata": {
        "id": "RixhbVoZ9rvb"
      },
      "source": [
        "filew= open('/content/Encoded', 'w')\n",
        "for entry in os.scandir(cwd):\n",
        "  filer= open(entry.path, 'r')\n",
        "  while 1:\n",
        "    str=filer.read(1)\n",
        "    if not str:\n",
        "        filew.write(code['n'])\n",
        "        filew.write('/')\n",
        "        break\n",
        "    filew.write(code[str])\n",
        "    filew.write('/')\n",
        "  filer.close()\n",
        "\n",
        "filew.close()"
      ],
      "execution_count": null,
      "outputs": []
    },
    {
      "cell_type": "markdown",
      "metadata": {
        "id": "8cbQmI9_KbyV"
      },
      "source": [
        "Display the encoded file"
      ]
    },
    {
      "cell_type": "code",
      "metadata": {
        "colab": {
          "base_uri": "https://localhost:8080/"
        },
        "id": "fnG697l1CVF4",
        "outputId": "81b9093f-8fe2-4179-bed5-204384f3de1c"
      },
      "source": [
        "with open('/content/Encoded', 'rb') as f:\n",
        "    print(f.read(100))"
      ],
      "execution_count": null,
      "outputs": [
        {
          "output_type": "stream",
          "name": "stdout",
          "text": [
            "b'00/01/01/110/00/110/00/110/00/110/110/110/110/110/01/110/110/10/01/110/110/01/01/110/10/10/10/10/01/'\n"
          ]
        }
      ]
    },
    {
      "cell_type": "code",
      "metadata": {
        "colab": {
          "base_uri": "https://localhost:8080/"
        },
        "id": "fEpYLyO_PnRO",
        "outputId": "49a59d9e-1b59-4b9e-cb4e-966426b49ab4"
      },
      "source": [
        "size = os.path.getsize('/content/Encoded') \n",
        "print('Size of file is', size, 'bytes')"
      ],
      "execution_count": null,
      "outputs": [
        {
          "output_type": "stream",
          "name": "stdout",
          "text": [
            "Size of file is 23480064 bytes\n"
          ]
        }
      ]
    },
    {
      "cell_type": "markdown",
      "metadata": {
        "id": "lTLQHK91oisN"
      },
      "source": [
        "**Fixed Length Coding**"
      ]
    },
    {
      "cell_type": "code",
      "metadata": {
        "id": "iLRxB_VNosiG"
      },
      "source": [
        "#do not run!\n",
        "f1 = open('bi.txt', 'wb')\n",
        "d = {'A':'111', 'T':'001', 'G':'011', 'C':'100', 'n':'000'}\n",
        "\n",
        "for entry in os.scandir(cwd):\n",
        "  f= open(entry.path, 'r')\n",
        "  while 1:     \n",
        "    c = f.read(1)         \n",
        "    if not c:\n",
        "        f1.write(int(d['n'], 2).to_bytes((len(d['n']) + 7) // 8, 'big'))\n",
        "        break\n",
        "    res = int(d[c],2).to_bytes((len(d[c])+7)//8, 'big')\n",
        "    f1.write(res)\n",
        "    f.close()    \n",
        "f1.close()"
      ],
      "execution_count": null,
      "outputs": []
    },
    {
      "cell_type": "markdown",
      "metadata": {
        "id": "17owEcnHxO8n"
      },
      "source": [
        "Converting text file into array"
      ]
    },
    {
      "cell_type": "code",
      "metadata": {
        "colab": {
          "base_uri": "https://localhost:8080/"
        },
        "id": "jDejA4li0fI0",
        "outputId": "4aae22e2-8ceb-4141-88fa-e697a370747f"
      },
      "source": [
        "encod= open('/content/Encoded', 'rb')\n",
        "dat = encod.read()\n",
        "leng = len(dat)\n",
        "encod.close()\n",
        "print(leng)"
      ],
      "execution_count": null,
      "outputs": [
        {
          "output_type": "stream",
          "name": "stdout",
          "text": [
            "23480064\n"
          ]
        }
      ]
    },
    {
      "cell_type": "code",
      "metadata": {
        "id": "g0AHxzKexSPL"
      },
      "source": [
        "import pandas as pd\n",
        "data = pd.read_csv('/content/Encoded', header=None, delimiter = '/')\n",
        "data.columns = [x for x in range(tot+1)]\n",
        "#data.columns = ['code']\n",
        "data.to_csv('encoder.csv', index = None)\n",
        "dataset = pd.read_csv('encoder.csv')\n",
        "dataset.head()\n",
        "dat = dataset.dropna(axis='columns')"
      ],
      "execution_count": null,
      "outputs": []
    },
    {
      "cell_type": "code",
      "metadata": {
        "id": "8E8b2h8VnIwy"
      },
      "source": [
        "Labels=np.array(dat)\n"
      ],
      "execution_count": null,
      "outputs": []
    },
    {
      "cell_type": "code",
      "metadata": {
        "colab": {
          "base_uri": "https://localhost:8080/"
        },
        "id": "ypFknbr9OFKB",
        "outputId": "0d5aac3e-9ef2-4a74-97b6-b433646b3b00"
      },
      "source": [
        "print(np.shape(Labels))"
      ],
      "execution_count": null,
      "outputs": [
        {
          "output_type": "stream",
          "name": "stdout",
          "text": [
            "(1, 7285484)\n"
          ]
        }
      ]
    },
    {
      "cell_type": "markdown",
      "metadata": {
        "id": "3UR_PfHkO4os"
      },
      "source": [
        "Adding Zero padding and reshaping the the array"
      ]
    },
    {
      "cell_type": "code",
      "metadata": {
        "colab": {
          "base_uri": "https://localhost:8080/"
        },
        "id": "0WiqzN4ooUWH",
        "outputId": "9b32ef80-648e-49b1-e29e-6aa4bf184ca0"
      },
      "source": [
        "padded = np.zeros((1,16))\n",
        "for i in padded:\n",
        "  Label = np.append(Labels, i)\n",
        "Label = Label.reshape(40475,180)\n",
        "print(np.shape(Label))\n",
        "Label = Label/111"
      ],
      "execution_count": null,
      "outputs": [
        {
          "output_type": "stream",
          "name": "stdout",
          "text": [
            "(40475, 180)\n"
          ]
        }
      ]
    },
    {
      "cell_type": "markdown",
      "metadata": {
        "id": "LI-kKqPYTYhT"
      },
      "source": [
        "**Autoencoder**"
      ]
    },
    {
      "cell_type": "code",
      "metadata": {
        "id": "33fj45OkTelN"
      },
      "source": [
        "import math\n",
        "import numpy as np\n",
        "from tensorflow import keras\n",
        "from keras.models import Sequential\n",
        "from tensorflow.keras import layers\n",
        "from keras.layers import Dense\n",
        "from keras import optimizers\n",
        "from sklearn.model_selection import train_test_split\n",
        "from sklearn.metrics import accuracy_score"
      ],
      "execution_count": null,
      "outputs": []
    },
    {
      "cell_type": "code",
      "metadata": {
        "id": "X0f7kE41TlVC"
      },
      "source": [
        "X_train,X_test=train_test_split(Label,test_size=0.2,random_state=20)\n",
        "k=math.floor((2/9)*X_train.shape[1])"
      ],
      "execution_count": null,
      "outputs": []
    },
    {
      "cell_type": "code",
      "metadata": {
        "id": "gt92IsPcR9pA"
      },
      "source": [
        "o1 = 180"
      ],
      "execution_count": null,
      "outputs": []
    },
    {
      "cell_type": "code",
      "metadata": {
        "id": "NmKq_8obTsTE"
      },
      "source": [
        "def autoencoder(X_train,hparam):\n",
        "    model = Sequential()\n",
        "# adding input layer\n",
        "    input_shape=(X_train.shape[1],)\n",
        "    model.add(Dense(o1, activation='relu', input_shape=input_shape))\n",
        "# encoder part\n",
        "    model.add(Dense(160, activation='relu'))\n",
        "    model.add(layers.BatchNormalization())\n",
        "    model.add(Dense(140, activation='relu'))\n",
        "    model.add(layers.BatchNormalization())\n",
        "    model.add(Dense(120, activation='relu'))\n",
        "    model.add(layers.BatchNormalization())\n",
        "# compressed layer\n",
        "    complay = model.add(Dense(100, activation='relu'))\n",
        "# decoder part\n",
        "    model.add(layers.BatchNormalization())\n",
        "    model.add(Dense(120, activation='relu'))\n",
        "    model.add(layers.BatchNormalization())\n",
        "    model.add(Dense(140, activation='relu'))\n",
        "    model.add(layers.BatchNormalization())\n",
        "    model.add(Dense(160, activation='relu'))\n",
        "    model.add(Dense(o1, activation='sigmoid'))\n",
        "\n",
        "    opt = keras.optimizers.Adam(learning_rate=0.0001)\n",
        "    model.compile(optimizer=opt, loss=\"binary_crossentropy\")\n",
        "    model.summary()\n",
        "    trainer=model.fit(X_train, X_train, epochs=hparam.epoch, batch_size=hparam.batch, shuffle=True, validation_split=hparam.eval_split)\n",
        "    \n",
        "    plt.plot(trainer.history['loss'])\n",
        "    plt.plot(trainer.history['val_loss'])\n",
        "    plt.title('Model loss')\n",
        "    plt.ylabel('Loss')\n",
        "    plt.xlabel('Epoch')\n",
        "    plt.legend(['Train', 'val'], loc='upper left')\n",
        "    plt.show()\n",
        "\n",
        "    return model"
      ],
      "execution_count": null,
      "outputs": []
    },
    {
      "cell_type": "code",
      "metadata": {
        "id": "I22pC0q0TxIG"
      },
      "source": [
        "class hparam_config():\n",
        "      def __init__(self, epoch,batch,eval_split):\n",
        "        self.epoch=epoch\n",
        "        self.batch=batch\n",
        "        self.eval_split=eval_split\n",
        "\n",
        "param_list=hparam_config(epoch=50,batch=40,eval_split=0.2)"
      ],
      "execution_count": null,
      "outputs": []
    },
    {
      "cell_type": "code",
      "metadata": {
        "id": "Eo-Hwu5IWXYv"
      },
      "source": [
        "import matplotlib.pyplot as plt"
      ],
      "execution_count": null,
      "outputs": []
    },
    {
      "cell_type": "code",
      "metadata": {
        "colab": {
          "base_uri": "https://localhost:8080/",
          "height": 1000
        },
        "id": "omQxquysT1vI",
        "outputId": "2d208289-ff4b-4329-d513-61473b0df0c3"
      },
      "source": [
        "encod=autoencoder(X_train, param_list)"
      ],
      "execution_count": null,
      "outputs": [
        {
          "output_type": "stream",
          "name": "stdout",
          "text": [
            "Model: \"sequential_4\"\n",
            "_________________________________________________________________\n",
            " Layer (type)                Output Shape              Param #   \n",
            "=================================================================\n",
            " dense_40 (Dense)            (None, 180)               32580     \n",
            "                                                                 \n",
            " dense_41 (Dense)            (None, 160)               28960     \n",
            "                                                                 \n",
            " batch_normalization_28 (Bat  (None, 160)              640       \n",
            " chNormalization)                                                \n",
            "                                                                 \n",
            " dense_42 (Dense)            (None, 140)               22540     \n",
            "                                                                 \n",
            " batch_normalization_29 (Bat  (None, 140)              560       \n",
            " chNormalization)                                                \n",
            "                                                                 \n",
            " dense_43 (Dense)            (None, 120)               16920     \n",
            "                                                                 \n",
            " batch_normalization_30 (Bat  (None, 120)              480       \n",
            " chNormalization)                                                \n",
            "                                                                 \n",
            " dense_44 (Dense)            (None, 100)               12100     \n",
            "                                                                 \n",
            " batch_normalization_31 (Bat  (None, 100)              400       \n",
            " chNormalization)                                                \n",
            "                                                                 \n",
            " dense_45 (Dense)            (None, 120)               12120     \n",
            "                                                                 \n",
            " batch_normalization_32 (Bat  (None, 120)              480       \n",
            " chNormalization)                                                \n",
            "                                                                 \n",
            " dense_46 (Dense)            (None, 140)               16940     \n",
            "                                                                 \n",
            " batch_normalization_33 (Bat  (None, 140)              560       \n",
            " chNormalization)                                                \n",
            "                                                                 \n",
            " dense_47 (Dense)            (None, 160)               22560     \n",
            "                                                                 \n",
            " dense_48 (Dense)            (None, 180)               28980     \n",
            "                                                                 \n",
            "=================================================================\n",
            "Total params: 196,820\n",
            "Trainable params: 195,260\n",
            "Non-trainable params: 1,560\n",
            "_________________________________________________________________\n",
            "Epoch 1/50\n",
            "648/648 [==============================] - 10s 10ms/step - loss: 0.5862 - val_loss: 0.5483\n",
            "Epoch 2/50\n",
            "648/648 [==============================] - 6s 9ms/step - loss: 0.5398 - val_loss: 0.5310\n",
            "Epoch 3/50\n",
            "648/648 [==============================] - 6s 9ms/step - loss: 0.5273 - val_loss: 0.5212\n",
            "Epoch 4/50\n",
            "648/648 [==============================] - 6s 9ms/step - loss: 0.5199 - val_loss: 0.5147\n",
            "Epoch 5/50\n",
            "648/648 [==============================] - 6s 9ms/step - loss: 0.5138 - val_loss: 0.5086\n",
            "Epoch 6/50\n",
            "648/648 [==============================] - 6s 9ms/step - loss: 0.5082 - val_loss: 0.5031\n",
            "Epoch 7/50\n",
            "648/648 [==============================] - 6s 9ms/step - loss: 0.5027 - val_loss: 0.4979\n",
            "Epoch 8/50\n",
            "648/648 [==============================] - 6s 9ms/step - loss: 0.4976 - val_loss: 0.4926\n",
            "Epoch 9/50\n",
            "648/648 [==============================] - 6s 10ms/step - loss: 0.4925 - val_loss: 0.4876\n",
            "Epoch 10/50\n",
            "648/648 [==============================] - 6s 10ms/step - loss: 0.4874 - val_loss: 0.4824\n",
            "Epoch 11/50\n",
            "648/648 [==============================] - 6s 9ms/step - loss: 0.4822 - val_loss: 0.4769\n",
            "Epoch 12/50\n",
            "648/648 [==============================] - 6s 9ms/step - loss: 0.4766 - val_loss: 0.4709\n",
            "Epoch 13/50\n",
            "648/648 [==============================] - 6s 9ms/step - loss: 0.4704 - val_loss: 0.4640\n",
            "Epoch 14/50\n",
            "648/648 [==============================] - 6s 9ms/step - loss: 0.4631 - val_loss: 0.4557\n",
            "Epoch 15/50\n",
            "648/648 [==============================] - 6s 9ms/step - loss: 0.4552 - val_loss: 0.4468\n",
            "Epoch 16/50\n",
            "648/648 [==============================] - 6s 9ms/step - loss: 0.4458 - val_loss: 0.4355\n",
            "Epoch 17/50\n",
            "648/648 [==============================] - 6s 9ms/step - loss: 0.4345 - val_loss: 0.4225\n",
            "Epoch 18/50\n",
            "648/648 [==============================] - 6s 10ms/step - loss: 0.4227 - val_loss: 0.4103\n",
            "Epoch 19/50\n",
            "648/648 [==============================] - 6s 9ms/step - loss: 0.4117 - val_loss: 0.3983\n",
            "Epoch 20/50\n",
            "648/648 [==============================] - 6s 9ms/step - loss: 0.3998 - val_loss: 0.3849\n",
            "Epoch 21/50\n",
            "648/648 [==============================] - 6s 9ms/step - loss: 0.3889 - val_loss: 0.3748\n",
            "Epoch 22/50\n",
            "648/648 [==============================] - 6s 9ms/step - loss: 0.3808 - val_loss: 0.3673\n",
            "Epoch 23/50\n",
            "648/648 [==============================] - 6s 9ms/step - loss: 0.3741 - val_loss: 0.3610\n",
            "Epoch 24/50\n",
            "648/648 [==============================] - 6s 9ms/step - loss: 0.3691 - val_loss: 0.3560\n",
            "Epoch 25/50\n",
            "648/648 [==============================] - 6s 9ms/step - loss: 0.3636 - val_loss: 0.3507\n",
            "Epoch 26/50\n",
            "648/648 [==============================] - 6s 9ms/step - loss: 0.3591 - val_loss: 0.3458\n",
            "Epoch 27/50\n",
            "648/648 [==============================] - 6s 9ms/step - loss: 0.3550 - val_loss: 0.3431\n",
            "Epoch 28/50\n",
            "648/648 [==============================] - 6s 9ms/step - loss: 0.3520 - val_loss: 0.3387\n",
            "Epoch 29/50\n",
            "648/648 [==============================] - 6s 9ms/step - loss: 0.3485 - val_loss: 0.3358\n",
            "Epoch 30/50\n",
            "648/648 [==============================] - 6s 9ms/step - loss: 0.3458 - val_loss: 0.3329\n",
            "Epoch 31/50\n",
            "648/648 [==============================] - 6s 9ms/step - loss: 0.3427 - val_loss: 0.3296\n",
            "Epoch 32/50\n",
            "648/648 [==============================] - 6s 9ms/step - loss: 0.3397 - val_loss: 0.3272\n",
            "Epoch 33/50\n",
            "648/648 [==============================] - 6s 9ms/step - loss: 0.3373 - val_loss: 0.3250\n",
            "Epoch 34/50\n",
            "648/648 [==============================] - 6s 9ms/step - loss: 0.3355 - val_loss: 0.3237\n",
            "Epoch 35/50\n",
            "648/648 [==============================] - 6s 9ms/step - loss: 0.3346 - val_loss: 0.3234\n",
            "Epoch 36/50\n",
            "648/648 [==============================] - 6s 9ms/step - loss: 0.3331 - val_loss: 0.3207\n",
            "Epoch 37/50\n",
            "648/648 [==============================] - 6s 9ms/step - loss: 0.3307 - val_loss: 0.3186\n",
            "Epoch 38/50\n",
            "648/648 [==============================] - 6s 9ms/step - loss: 0.3286 - val_loss: 0.3168\n",
            "Epoch 39/50\n",
            "648/648 [==============================] - 6s 9ms/step - loss: 0.3270 - val_loss: 0.3149\n",
            "Epoch 40/50\n",
            "648/648 [==============================] - 6s 9ms/step - loss: 0.3255 - val_loss: 0.3142\n",
            "Epoch 41/50\n",
            "648/648 [==============================] - 6s 9ms/step - loss: 0.3243 - val_loss: 0.3128\n",
            "Epoch 42/50\n",
            "648/648 [==============================] - 6s 9ms/step - loss: 0.3225 - val_loss: 0.3108\n",
            "Epoch 43/50\n",
            "648/648 [==============================] - 6s 9ms/step - loss: 0.3217 - val_loss: 0.3101\n",
            "Epoch 44/50\n",
            "648/648 [==============================] - 6s 9ms/step - loss: 0.3201 - val_loss: 0.3085\n",
            "Epoch 45/50\n",
            "648/648 [==============================] - 6s 9ms/step - loss: 0.3189 - val_loss: 0.3074\n",
            "Epoch 46/50\n",
            "648/648 [==============================] - 6s 10ms/step - loss: 0.3174 - val_loss: 0.3052\n",
            "Epoch 47/50\n",
            "648/648 [==============================] - 6s 9ms/step - loss: 0.3161 - val_loss: 0.3052\n",
            "Epoch 48/50\n",
            "648/648 [==============================] - 6s 8ms/step - loss: 0.3155 - val_loss: 0.3048\n",
            "Epoch 49/50\n",
            "648/648 [==============================] - 6s 9ms/step - loss: 0.3148 - val_loss: 0.3037\n",
            "Epoch 50/50\n",
            "648/648 [==============================] - 6s 9ms/step - loss: 0.3135 - val_loss: 0.3015\n"
          ]
        },
        {
          "output_type": "display_data",
          "data": {
            "image/png": "[encoded data removed]",
            "text/plain": [
              "<Figure size 432x288 with 1 Axes>"
            ]
          },
          "metadata": {
            "needs_background": "light"
          }
        }
      ]
    },
    {
      "cell_type": "code",
      "metadata": {
        "id": "Z4TnrW4RT5zL"
      },
      "source": [
        "X_pred = encod.predict(X_test)"
      ],
      "execution_count": null,
      "outputs": []
    },
    {
      "cell_type": "code",
      "metadata": {
        "colab": {
          "base_uri": "https://localhost:8080/"
        },
        "id": "vA1ej_EDaGre",
        "outputId": "863c94be-30f5-48ce-ff4d-f58cd881d371"
      },
      "source": [
        "from sklearn.metrics import r2_score\n",
        "print(r2_score(X_test,X_pred))"
      ],
      "execution_count": null,
      "outputs": [
        {
          "output_type": "stream",
          "name": "stdout",
          "text": [
            "0.5922720267413412\n"
          ]
        }
      ]
    },
    {
      "cell_type": "code",
      "metadata": {
        "id": "QVATH5fET_FF"
      },
      "source": [
        "# Run only for improved models...........\n",
        "from keras.models import save_model\n",
        "encod.save('Autoencoder.h5')"
      ],
      "execution_count": null,
      "outputs": []
    }
  ]
}